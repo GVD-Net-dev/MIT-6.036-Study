{
 "cells": [
  {
   "cell_type": "markdown",
   "id": "026eabea-036e-41ac-a8ce-01ccd83262d6",
   "metadata": {},
   "source": [
    "# python基础\n"
   ]
  },
  {
   "cell_type": "markdown",
   "id": "219cceb3-63b6-4647-88f6-32703f730e6f",
   "metadata": {},
   "source": [
    "\n",
    "<b>本文主要介绍python的一些常用的基本语法，详细的可以参考其他网络资源</b>\n",
    "<b>资源</b>：\n",
    "* [python基础菜鸟教程](https://www.runoob.com/python/python-tutorial.html)\n"
   ]
  },
  {
   "cell_type": "markdown",
   "id": "5858d6ff-5f94-4119-8490-9662bd36e53e",
   "metadata": {},
   "source": [
    "## 一.变量类型\n",
    "\n",
    "### 1.数据类型\n",
    "Python有五个标准的数据类型：\n",
    "* Numbers（数字）\n",
    "* String（字符串）\n",
    "* List（列表）\n",
    "* Tuple（元组）\n",
    "* Dictionary（字典）"
   ]
  },
  {
   "cell_type": "code",
   "execution_count": 1,
   "id": "42820725-d0d7-419d-b23b-020d12b0efcd",
   "metadata": {},
   "outputs": [
    {
     "name": "stdout",
     "output_type": "stream",
     "text": [
      "12\n"
     ]
    }
   ],
   "source": [
    "var1= 12\n",
    "var2= 13\n",
    "print(var1)"
   ]
  },
  {
   "cell_type": "code",
   "execution_count": 2,
   "id": "695e079e-9df7-4459-acf9-7c4fc4c1aa1a",
   "metadata": {},
   "outputs": [],
   "source": [
    "del var1 # 删除对象的引用"
   ]
  },
  {
   "cell_type": "code",
   "execution_count": 4,
   "id": "1b47e888-ad8f-4234-9b23-95f1784f4100",
   "metadata": {},
   "outputs": [],
   "source": [
    "# print(var1) #NameError: name 'var1' is not defined"
   ]
  },
  {
   "cell_type": "markdown",
   "id": "c6efd7be-e48f-446c-84bb-4182febc7ae3",
   "metadata": {},
   "source": [
    "----"
   ]
  },
  {
   "cell_type": "markdown",
   "id": "47385065-e587-48d6-a11e-e0d9147c1e8f",
   "metadata": {},
   "source": [
    "### 2.字符串"
   ]
  },
  {
   "cell_type": "code",
   "execution_count": 7,
   "id": "37d0abb0-9968-406e-8be2-ecc896ea17cd",
   "metadata": {},
   "outputs": [
    {
     "name": "stdout",
     "output_type": "stream",
     "text": [
      "Hello World!\n",
      "H\n",
      "llo\n",
      "llo World!\n",
      "Hello World!Hello World!\n",
      "Hello World!TEST\n"
     ]
    }
   ],
   "source": [
    "str = 'Hello World!'\n",
    " \n",
    "print(str)           # 输出完整字符串\n",
    "print(str[0])        # 输出字符串中的第一个字符\n",
    "print(str[2:5])     # 输出字符串中第三个至第六个之间的字符串\n",
    "print(str[2:])       # 输出从第三个字符开始的字符串\n",
    "print(str * 2)       # 输出字符串两次\n",
    "print(str + \"TEST\")  # 输出连接的字符串"
   ]
  },
  {
   "cell_type": "markdown",
   "id": "52fb9ecc-7d66-420c-bc95-5c2b9628a143",
   "metadata": {},
   "source": [
    "---\n",
    "\n",
    "### 3.Python列表\n",
    "List（列表） 是 Python 中使用最频繁的数据类型。\n",
    "\n",
    "列表可以完成大多数集合类的数据结构实现。它支持字符，数字，字符串甚至可以包含列表（即嵌套）。\n",
    "\n",
    "列表用 [ ] 标识，是 python 最通用的复合数据类型。\n",
    "\n",
    "列表中值的切割也可以用到变量 [头下标:尾下标] ，就可以截取相应的列表，从左到右索引默认 0 开始，从右到左索引默认 -1 开始，下标可以为空表示取到头或尾。\n",
    "\n",
    "<b>加号 + 是列表连接运算符，星号 * 是重复操作。</b>"
   ]
  },
  {
   "cell_type": "code",
   "execution_count": 12,
   "id": "6d1ddb2a-4ffa-43b8-85d3-4a86feb0692f",
   "metadata": {},
   "outputs": [
    {
     "name": "stdout",
     "output_type": "stream",
     "text": [
      "['hello world', 123, 3.14, 'mike']\n",
      "hello world\n",
      "[123, 3.14]\n",
      "[3.14, 'mike']\n",
      "['hello world', 123, 3.14, 'mike', 'hello world', 123, 3.14, 'mike']\n",
      "['hello world', 123, 3.14, 'mike', 999, 'john']\n"
     ]
    }
   ],
   "source": [
    "lb=['hello world',123,3.14,'mike']\n",
    "lb2=[999,'john']\n",
    "print(lb) #输出完整列表\n",
    "print(lb[0]) #输出列表第一个元素\n",
    "print(lb[1:3]) #输出第二个至第三个元素\n",
    "print(lb[2:]) #输出从第三个开始至列表末尾的所有元素\n",
    "print(lb*2) #输出列表两次\n",
    "print(lb+lb2)#打印组合的列表"
   ]
  },
  {
   "cell_type": "markdown",
   "id": "6abed7fc-d4d7-4c5c-b71f-5fc49360960e",
   "metadata": {},
   "source": [
    "---\n",
    "\n",
    "### 4.Python元组\n",
    "\n",
    "元组是另一个数据类型，类似于 List（列表）。\n",
    "\n",
    "元组用 () 标识。内部元素用逗号隔开。但是<b>元组不能二次赋值，相当于只读列表。</b>"
   ]
  },
  {
   "cell_type": "code",
   "execution_count": 15,
   "id": "21be683b-4e3e-432a-b68e-d06e8a8f0905",
   "metadata": {},
   "outputs": [
    {
     "name": "stdout",
     "output_type": "stream",
     "text": [
      "(123, 'hello world', 3.14, 1231313123)\n",
      "123\n",
      "('hello world', 3.14)\n",
      "(3.14, 1231313123)\n",
      "(123, 'hello world', 3.14, 1231313123, 123, 'hello world', 3.14, 1231313123)\n"
     ]
    }
   ],
   "source": [
    "mytuple = (123,'hello world',3.14,1231313123)\n",
    "\n",
    "tuple2=(11111)\n",
    "\n",
    "print(mytuple) #输出完整元组\n",
    "print(mytuple[0]) #输出元组第一个元素\n",
    "print(mytuple[1:3]) #输出第二个至第三个元素\n",
    "print(mytuple[2:]) #输出从第三个开始至元组末尾的所有元素\n",
    "print(mytuple*2) #输出元组两次\n"
   ]
  },
  {
   "cell_type": "markdown",
   "id": "e27c983a-a936-4bdb-8321-95f6c5e26b05",
   "metadata": {},
   "source": [
    "-----\n",
    "\n",
    "### 5.Python字典\n",
    "字典(dictionary)是除列表以外python之中最灵活的内置数据结构类型。列表是有序的对象集合，字典是无序的对象集合。\n",
    "\n",
    "两者之间的区别在于：字典当中的元素是通过键来存取的，而不是通过偏移存取。\n",
    "\n",
    "字典用\"{ }\"标识。字典由索引(key)和它对应的值value组成。\n",
    "\n"
   ]
  },
  {
   "cell_type": "code",
   "execution_count": 16,
   "id": "a2a48270-2e69-42ff-a534-0c1627d3f413",
   "metadata": {},
   "outputs": [
    {
     "name": "stdout",
     "output_type": "stream",
     "text": [
      "This is one\n",
      "This is two\n",
      "{'name': 'runoob', 'code': 6734, 'dept': 'sales'}\n",
      "dict_keys(['name', 'code', 'dept'])\n",
      "dict_values(['runoob', 6734, 'sales'])\n"
     ]
    }
   ],
   "source": [
    "dict = {}\n",
    "dict['one'] = \"This is one\"\n",
    "dict[2] = \"This is two\"\n",
    " \n",
    "tinydict = {'name': 'runoob','code':6734, 'dept': 'sales'}\n",
    "\n",
    "print(dict['one'])# 输出键为'one' 的值\n",
    "print(dict[2]) # 输出键为 2 的值\n",
    "print(tinydict)# 输出完整的字典\n",
    "print(tinydict.keys()) # 输出所有键\n",
    "print(tinydict.values())# 输出所有值"
   ]
  },
  {
   "cell_type": "code",
   "execution_count": null,
   "id": "1bcde6f9-8aa3-474c-85b3-93fb1f6d375e",
   "metadata": {},
   "outputs": [],
   "source": []
  },
  {
   "cell_type": "markdown",
   "id": "5b2fafc2-88b6-475d-b201-7e503fd3dcc3",
   "metadata": {},
   "source": [
    "----\n",
    "\n",
    "## 二.Python语句\n",
    "\n",
    "* 条件语句\n",
    "* 循环语句\n",
    "\n",
    "<b>注意: </b>\n",
    "1. for循环后边用的是冒号，不是括号，注意空格对齐\n",
    "2. 像for(int i=2;i<n;i++)要写成for i in range(2,n)\n",
    "3. range(n,m) 等价于 [n,m)"
   ]
  },
  {
   "cell_type": "code",
   "execution_count": 19,
   "id": "001e6ef5-d164-40e2-adc5-eeee84860163",
   "metadata": {},
   "outputs": [
    {
     "name": "stdout",
     "output_type": "stream",
     "text": [
      "2\n",
      "3\n",
      "4\n",
      "5\n",
      "6\n",
      "7\n",
      "8\n",
      "9\n"
     ]
    }
   ],
   "source": [
    "# 测试开闭区间\n",
    "for s in range(2,10):\n",
    "    print(s) # 2 3 4 5 6 7 8 9"
   ]
  },
  {
   "cell_type": "code",
   "execution_count": 25,
   "id": "cc04327e-254c-4b03-9af7-b66d609c55f1",
   "metadata": {},
   "outputs": [
    {
     "name": "stdin",
     "output_type": "stream",
     "text": [
      "输入一个整数判断素数： 10\n"
     ]
    },
    {
     "name": "stdout",
     "output_type": "stream",
     "text": [
      "10 不是素数\n"
     ]
    }
   ],
   "source": [
    "# 判断素数\n",
    "n=int(input(\"输入一个整数判断素数：\"))\n",
    "\n",
    "def fun(n):\n",
    "    if(n<=1):\n",
    "        return 0\n",
    "    for i in range(2,n):\n",
    "        if(n%i==0):\n",
    "            return 0\n",
    "        \n",
    "    return 1\n",
    "\n",
    "if(fun(n)==0):\n",
    "    print(n,\"不是素数\")\n",
    "else:\n",
    "    print(n,\"是素数\")"
   ]
  },
  {
   "cell_type": "markdown",
   "id": "28d61117-7ac9-4a80-9979-fefe78e189b7",
   "metadata": {},
   "source": [
    "----\n"
   ]
  },
  {
   "cell_type": "markdown",
   "id": "dc7273c7-f23c-4971-a688-417f1e0dda32",
   "metadata": {},
   "source": [
    "## 三.列表例子\n"
   ]
  },
  {
   "cell_type": "code",
   "execution_count": 39,
   "id": "2b5db0ad-2443-4df8-ad2f-cfddd2eb53fc",
   "metadata": {},
   "outputs": [
    {
     "name": "stdout",
     "output_type": "stream",
     "text": [
      "['mike', 123, 3.1415]\n",
      "['mike', 123, 3.1415, 'hello']\n",
      "[123, 3.1415, 'hello']\n",
      "hellohellohellohello\n",
      "['jack', 999]\n",
      "全部元素: [123, 3.1415, 'hello', 'jack', 999]\n",
      "倒数第一个 999\n",
      "倒数第二个 jack\n"
     ]
    }
   ],
   "source": [
    "\n",
    "lb=[\"mike\",123,3.1415]\n",
    "print(lb)\n",
    "\n",
    "lb.append(\"hello\")\n",
    "print(lb)\n",
    "\n",
    "del lb[0]\n",
    "print(lb)\n",
    "\n",
    "print(lb[2]*4) #输出四次\n",
    "\n",
    "############ 再添加一点元素吧 ############\n",
    "lb.append(\"jack\")\n",
    "lb.append(999)\n",
    "########################################\n",
    "\n",
    "print(lb[3:])\n",
    "\n",
    "print(\"全部元素:\",lb)\n",
    "print(\"倒数第一个\",lb[-1])\n",
    "print(\"倒数第二个\",lb[-2])"
   ]
  },
  {
   "cell_type": "markdown",
   "id": "b62492f7-a490-42e2-80ac-db5b19f5249c",
   "metadata": {},
   "source": [
    "---\n",
    "\n",
    "## 四.元组例子\n",
    "\n"
   ]
  },
  {
   "cell_type": "code",
   "execution_count": 41,
   "id": "3649b5a9-f7f1-4472-b964-a71949d6d52a",
   "metadata": {},
   "outputs": [
    {
     "name": "stdout",
     "output_type": "stream",
     "text": [
      "元组所有元素 ()\n",
      "元组所有元素 (123, 'mike')\n"
     ]
    }
   ],
   "source": [
    "me=()#创建空元组\n",
    "print(\"元组所有元素\",me)\n",
    "\n",
    "me=(123,\"mike\")\n",
    "print(\"元组所有元素\",me)"
   ]
  },
  {
   "cell_type": "markdown",
   "id": "759d1ca9-0ba6-47c7-a878-ce2b251db38b",
   "metadata": {},
   "source": [
    "### 1.访问元组\n",
    "元组可以使用下标索引来访问元组中的值，如下实例:"
   ]
  },
  {
   "cell_type": "code",
   "execution_count": 43,
   "id": "9af4c094-e1fd-4a9d-bc55-705f77bc1279",
   "metadata": {},
   "outputs": [
    {
     "name": "stdout",
     "output_type": "stream",
     "text": [
      "tup1[0]:  physics\n",
      "tup2[1:5]:  (2, 3, 4, 5)\n"
     ]
    }
   ],
   "source": [
    "tup1 = ('physics', 'chemistry', 1997, 2000)\n",
    "tup2 = (1, 2, 3, 4, 5, 6, 7 )\n",
    " \n",
    "print (\"tup1[0]: \", tup1[0])\n",
    "print (\"tup2[1:5]: \", tup2[1:5])"
   ]
  },
  {
   "cell_type": "markdown",
   "id": "8d2064fb-92c9-4953-a76a-5ad67769c22a",
   "metadata": {},
   "source": [
    "\n",
    "### 2.修改元组\n",
    "元组中的元素值是不允许修改的，但我们可以对元组进行连接组合，如下实例:"
   ]
  },
  {
   "cell_type": "code",
   "execution_count": 45,
   "id": "3e8f9671-8960-4045-865e-567f5e4016ef",
   "metadata": {},
   "outputs": [
    {
     "name": "stdout",
     "output_type": "stream",
     "text": [
      "(12, 34.56, 'abc', 'xyz')\n"
     ]
    }
   ],
   "source": [
    "tup1 = (12, 34.56)\n",
    "tup2 = ('abc', 'xyz')\n",
    " \n",
    "# 以下修改元组元素操作是非法的。\n",
    "# tup1[0] = 100\n",
    " \n",
    "# 创建一个新的元组\n",
    "tup3 = tup1 + tup2\n",
    "print (tup3)"
   ]
  },
  {
   "cell_type": "markdown",
   "id": "d21fcddd-a734-4dc1-8f8d-ed24d065bc03",
   "metadata": {},
   "source": [
    "\n",
    "---\n",
    "### 3.删除元组\n",
    "元组中的元素值是不允许删除的，但我们可以使用del语句来删除整个元组，如下实例:\n"
   ]
  },
  {
   "cell_type": "code",
   "execution_count": 48,
   "id": "4a7b82a1-be2c-43bc-b4a1-38614ce0135d",
   "metadata": {},
   "outputs": [
    {
     "name": "stdout",
     "output_type": "stream",
     "text": [
      "('physics', 'chemistry', 1997, 2000)\n"
     ]
    }
   ],
   "source": [
    "tup = ('physics', 'chemistry', 1997, 2000)\n",
    " \n",
    "print (tup)\n",
    "del tup \n",
    "# print (\"After deleting tup : \")\n",
    "# print (tup) #这个时候会报错，显示tup没有定义"
   ]
  },
  {
   "cell_type": "markdown",
   "id": "c5565860-d214-4d1a-bd8b-a24127b1984e",
   "metadata": {},
   "source": [
    "\n",
    "---\n",
    "\n",
    "<h2 align=\"center\">END</h2>"
   ]
  },
  {
   "cell_type": "code",
   "execution_count": null,
   "id": "42ab3dce-8f5d-46c8-b77c-40d36ff12e9f",
   "metadata": {},
   "outputs": [],
   "source": []
  }
 ],
 "metadata": {
  "kernelspec": {
   "display_name": "Python 3 (ipykernel)",
   "language": "python",
   "name": "python3"
  },
  "language_info": {
   "codemirror_mode": {
    "name": "ipython",
    "version": 3
   },
   "file_extension": ".py",
   "mimetype": "text/x-python",
   "name": "python",
   "nbconvert_exporter": "python",
   "pygments_lexer": "ipython3",
   "version": "3.8.10"
  }
 },
 "nbformat": 4,
 "nbformat_minor": 5
}
